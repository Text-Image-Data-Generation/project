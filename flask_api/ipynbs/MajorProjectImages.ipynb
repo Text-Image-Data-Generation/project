{
  "cells": [
    {
      "cell_type": "code",
      "execution_count": null,
      "metadata": {
        "colab": {
          "base_uri": "https://localhost:8080/"
        },
        "id": "zrKUcDj6SG2S",
        "outputId": "1c5c05a0-69ba-4263-adb0-70344d3fbd69"
      },
      "outputs": [
        {
          "output_type": "stream",
          "name": "stdout",
          "text": [
            "Cloning into 'stylegan3'...\n",
            "remote: Enumerating objects: 212, done.\u001b[K\n",
            "remote: Counting objects: 100% (163/163), done.\u001b[K\n",
            "remote: Compressing objects: 100% (73/73), done.\u001b[K\n",
            "remote: Total 212 (delta 99), reused 90 (delta 90), pack-reused 49 (from 1)\u001b[K\n",
            "Receiving objects: 100% (212/212), 4.16 MiB | 30.01 MiB/s, done.\n",
            "Resolving deltas: 100% (108/108), done.\n"
          ]
        }
      ],
      "source": [
        "!git clone https://github.com/NVlabs/stylegan3"
      ]
    },
    {
      "cell_type": "code",
      "source": [
        "from google.colab import drive\n",
        "drive.mount('/content/drive')"
      ],
      "metadata": {
        "colab": {
          "base_uri": "https://localhost:8080/"
        },
        "id": "mMPX8MdBV66L",
        "outputId": "1e81e46b-52e1-4c46-ca25-d189b6a0d0d9"
      },
      "execution_count": null,
      "outputs": [
        {
          "output_type": "stream",
          "name": "stdout",
          "text": [
            "Mounted at /content/drive\n"
          ]
        }
      ]
    },
    {
      "cell_type": "code",
      "execution_count": null,
      "metadata": {
        "colab": {
          "base_uri": "https://localhost:8080/"
        },
        "id": "dosCZw8VSG2T",
        "outputId": "93902a7f-c84e-456f-ea2c-6883d5d782b1"
      },
      "outputs": [
        {
          "output_type": "stream",
          "name": "stdout",
          "text": [
            "Code written to /content/stylegan3/gen_images.py\n"
          ]
        }
      ],
      "source": [
        "file_path = \"/content/stylegan3/gen_images.py\"\n",
        "\n",
        "code = \"\"\"# Copyright (c) 2021, NVIDIA CORPORATION & AFFILIATES.  All rights reserved.\n",
        "#\n",
        "# NVIDIA CORPORATION and its licensors retain all intellectual property\n",
        "# and proprietary rights in and to this software, related documentation\n",
        "# and any modifications thereto.  Any use, reproduction, disclosure or\n",
        "# distribution of this software and related documentation without an express\n",
        "# license agreement from NVIDIA CORPORATION is strictly prohibited.\n",
        "\n",
        "\\\"\\\"\\\"Generate images using pretrained network pickle.\\\"\\\"\\\"\n",
        "\n",
        "import os\n",
        "import re\n",
        "from typing import List, Optional, Tuple, Union\n",
        "\n",
        "import click\n",
        "import dnnlib\n",
        "import numpy as np\n",
        "import PIL.Image\n",
        "import torch\n",
        "\n",
        "import legacy\n",
        "\n",
        "#----------------------------------------------------------------------------\n",
        "\n",
        "def parse_range(s: Union[str, List]) -> List[int]:\n",
        "    '''Parse a comma-separated list of numbers or ranges and return a list of ints.\n",
        "\n",
        "    Example: '1,2,5-10' returns [1, 2, 5, 6, 7]\n",
        "    '''\n",
        "    if isinstance(s, list):\n",
        "        return s\n",
        "    ranges = []\n",
        "    range_re = re.compile(r'^(\\\\d+)-(\\\\d+)$')\n",
        "    for p in s.split(','):\n",
        "        m = range_re.match(p)\n",
        "        if m:\n",
        "            ranges.extend(range(int(m.group(1)), int(m.group(2)) + 1))\n",
        "        else:\n",
        "            ranges.append(int(p))\n",
        "    return ranges\n",
        "\n",
        "#----------------------------------------------------------------------------\n",
        "\n",
        "def parse_vec2(s: Union[str, Tuple[float, float]]) -> Tuple[float, float]:\n",
        "    '''Parse a floating point 2-vector of syntax 'a,b'.\n",
        "\n",
        "    Example:\n",
        "        '0,1' returns (0,1)\n",
        "    '''\n",
        "    if isinstance(s, tuple):\n",
        "        return s\n",
        "    parts = s.split(',')\n",
        "    if len(parts) == 2:\n",
        "        return (float(parts[0]), float(parts[1]))\n",
        "    raise ValueError(f'Cannot parse 2-vector {s}')\n",
        "\n",
        "#----------------------------------------------------------------------------\n",
        "\n",
        "def make_transform(translate: Tuple[float, float], angle: float):\n",
        "    m = np.eye(3)\n",
        "    s = np.sin(angle / 360.0 * np.pi * 2)\n",
        "    c = np.cos(angle / 360.0 * np.pi * 2)\n",
        "    m[0][0] = c\n",
        "    m[0][1] = s\n",
        "    m[0][2] = translate[0]\n",
        "    m[1][0] = -s\n",
        "    m[1][1] = c\n",
        "    m[1][2] = translate[1]\n",
        "    return m\n",
        "\n",
        "#----------------------------------------------------------------------------\n",
        "\n",
        "@click.command()\n",
        "@click.option('--network', 'network_pkl', help='Network pickle filename', required=True)\n",
        "@click.option('--seeds', type=parse_range, help=\"List of random seeds (e.g., '0,1,4-6')\", required=True)\n",
        "@click.option('--trunc', 'truncation_psi', type=float, help='Truncation psi', default=1, show_default=True)\n",
        "@click.option('--class', 'class_idx', type=int, help='Class label (unconditional if not specified)')\n",
        "@click.option('--noise-mode', help='Noise mode', type=click.Choice(['const', 'random', 'none']), default='const', show_default=True)\n",
        "@click.option('--translate', help=\"Translate XY-coordinate (e.g. '0.3,1')\", type=parse_vec2, default='0,0', show_default=True, metavar='VEC2')\n",
        "@click.option('--rotate', help='Rotation angle in degrees', type=float, default=0, show_default=True, metavar='ANGLE')\n",
        "@click.option('--outdir', help='Where to save the output images', type=str, required=True, metavar='DIR')\n",
        "def generate_images(\n",
        "    network_pkl: str,\n",
        "    seeds: List[int],\n",
        "    truncation_psi: float,\n",
        "    noise_mode: str,\n",
        "    outdir: str,\n",
        "    translate: Tuple[float, float],\n",
        "    rotate: float,\n",
        "    class_idx: Optional[int]\n",
        "):\n",
        "    \\\"\\\"\\\"Generate images using pretrained network pickle.\n",
        "\n",
        "    Examples:\n",
        "\n",
        "    \\\\b\n",
        "    # Generate an image using pre-trained AFHQv2 model (\"Ours\" in Figure 1, left).\n",
        "    python gen_images.py --outdir=out --trunc=1 --seeds=2 \\\\\n",
        "        --network=https://api.ngc.nvidia.com/v2/models/nvidia/research/stylegan3/versions/1/files/stylegan3-r-afhqv2-512x512.pkl\n",
        "\n",
        "    \\\\b\n",
        "    # Generate uncurated images with truncation using the MetFaces-U dataset\n",
        "    python gen_images.py --outdir=out --trunc=0.7 --seeds=600-605 \\\\\n",
        "        --network=https://api.ngc.nvidia.com/v2/models/nvidia/research/stylegan3/versions/1/files/stylegan3-t-metfacesu-1024x1024.pkl\n",
        "    \\\"\\\"\\\"\n",
        "\n",
        "    print(f'Loading networks from \\\"{network_pkl}\\\"...')\n",
        "    device = torch.device('cuda')\n",
        "    with dnnlib.util.open_url(network_pkl) as f:\n",
        "        G = legacy.load_network_pkl(f)['G_ema'].to(device)  # type: ignore\n",
        "\n",
        "    os.makedirs(outdir, exist_ok=True)\n",
        "\n",
        "    # Labels.\n",
        "    label = torch.zeros([1, G.c_dim], device=device)\n",
        "    if G.c_dim != 0:\n",
        "        if class_idx is None:\n",
        "            raise click.ClickException('Must specify class label with --class when using a conditional network')\n",
        "        label[:, class_idx] = 1\n",
        "    else:\n",
        "        if class_idx is not None:\n",
        "            print('Warning: --class=lbl ignored when running on an unconditional network')\n",
        "\n",
        "    # Generate images.\n",
        "    for seed_idx, seed in enumerate(seeds):\n",
        "        print(f'Generating image for seed {seed} ({seed_idx + 1}/{len(seeds)}) ...')\n",
        "        z = torch.from_numpy(np.random.RandomState(seed).randn(1, G.z_dim)).to(device)\n",
        "\n",
        "        # Construct an inverse rotation/translation matrix and pass to the generator.\n",
        "        if hasattr(G.synthesis, 'input'):\n",
        "            m = make_transform(translate, rotate)\n",
        "            m = np.linalg.inv(m)\n",
        "            G.synthesis.input.transform.copy_(torch.from_numpy(m))\n",
        "\n",
        "        img = G(z, label, truncation_psi=truncation_psi, noise_mode=noise_mode)\n",
        "        # Rearrange dimensions from [batch, channel, height, width] to [batch, height, width, channel]\n",
        "        img = (img.permute(0, 2, 3, 1) * 127.5 + 128).clamp(0, 255).to(torch.uint8)\n",
        "\n",
        "        # Convert the tensor to a NumPy array.\n",
        "        arr = img[0].cpu().numpy()\n",
        "        # Determine the image mode based on the number of channels.\n",
        "        if arr.shape[-1] == 1:\n",
        "            # For grayscale, squeeze the channel dimension so the array is 2D.\n",
        "            arr = arr.squeeze(-1)\n",
        "            mode = \"L\"\n",
        "        elif arr.shape[-1] == 3:\n",
        "            mode = \"RGB\"\n",
        "        elif arr.shape[-1] == 4:\n",
        "            mode = \"RGBA\"\n",
        "        else:\n",
        "            raise ValueError(f\"Unexpected number of channels: {arr.shape[-1]}\")\n",
        "\n",
        "        PIL.Image.fromarray(arr, mode).save(f'{outdir}/seed{seed:04d}.png')\n",
        "\n",
        "\n",
        "#----------------------------------------------------------------------------\n",
        "\n",
        "if __name__ == \"__main__\":\n",
        "    generate_images()  # pylint: disable=no-value-for-parameter\n",
        "\n",
        "#----------------------------------------------------------------------------\n",
        "\"\"\"\n",
        "\n",
        "with open(file_path, \"w\") as f:\n",
        "    f.write(code)\n",
        "\n",
        "print(f\"Code written to {file_path}\")\n"
      ]
    },
    {
      "cell_type": "code",
      "execution_count": null,
      "metadata": {
        "colab": {
          "base_uri": "https://localhost:8080/"
        },
        "id": "D8aF5JfjSG2U",
        "outputId": "037c02e4-8fd6-45ae-c19e-bf3c79f5968f"
      },
      "outputs": [
        {
          "output_type": "stream",
          "name": "stdout",
          "text": [
            "Requirement already satisfied: click in /usr/local/lib/python3.11/dist-packages (8.2.1)\n",
            "Requirement already satisfied: requests in /usr/local/lib/python3.11/dist-packages (2.32.3)\n",
            "Requirement already satisfied: pillow in /usr/local/lib/python3.11/dist-packages (11.2.1)\n",
            "Requirement already satisfied: charset-normalizer<4,>=2 in /usr/local/lib/python3.11/dist-packages (from requests) (3.4.2)\n",
            "Requirement already satisfied: idna<4,>=2.5 in /usr/local/lib/python3.11/dist-packages (from requests) (3.10)\n",
            "Requirement already satisfied: urllib3<3,>=1.21.1 in /usr/local/lib/python3.11/dist-packages (from requests) (2.4.0)\n",
            "Requirement already satisfied: certifi>=2017.4.17 in /usr/local/lib/python3.11/dist-packages (from requests) (2025.4.26)\n"
          ]
        }
      ],
      "source": [
        "!pip install click requests pillow"
      ]
    },
    {
      "cell_type": "code",
      "execution_count": null,
      "metadata": {
        "colab": {
          "base_uri": "https://localhost:8080/"
        },
        "id": "IjmdWJncSG2V",
        "outputId": "5c50c5d7-864f-4639-bf95-d9f63920bb6f"
      },
      "outputs": [
        {
          "output_type": "stream",
          "name": "stdout",
          "text": [
            "Loading networks from \"/content/drive/MyDrive/pathvqa/network-snapshot-000120.pkl\"...\n",
            "\n",
            "Aborted!\n"
          ]
        }
      ],
      "source": [
        "generated_images_dir = f\"/content/generated_images\"\n",
        "import os\n",
        "# Create directories if they don't exist\n",
        "os.makedirs(generated_images_dir, exist_ok=True)\n",
        "\n",
        "# gen_network = f\"/content/network-snapshot-000120.pkl\"\n",
        "gen_network = f\"/content/drive/MyDrive/pathvqa/network-snapshot-000120.pkl\"\n",
        "\n",
        "# Generate images using the trained model\n",
        "!python /content/stylegan3/gen_images.py \\\n",
        "  --outdir='{generated_images_dir}' \\\n",
        "  --trunc=0.7 --seeds=0-24 \\\n",
        "  --network='{gen_network}'"
      ]
    },
    {
      "cell_type": "code",
      "source": [
        "!pip install Ninja"
      ],
      "metadata": {
        "colab": {
          "base_uri": "https://localhost:8080/"
        },
        "id": "OA9yUATxTZsM",
        "outputId": "da18a0dd-1022-400c-8276-f1baf0c918b5"
      },
      "execution_count": null,
      "outputs": [
        {
          "output_type": "stream",
          "name": "stdout",
          "text": [
            "Collecting Ninja\n",
            "  Downloading ninja-1.11.1.4-py3-none-manylinux_2_12_x86_64.manylinux2010_x86_64.whl.metadata (5.0 kB)\n",
            "Downloading ninja-1.11.1.4-py3-none-manylinux_2_12_x86_64.manylinux2010_x86_64.whl (422 kB)\n",
            "\u001b[?25l   \u001b[90m━━━━━━━━━━━━━━━━━━━━━━━━━━━━━━━━━━━━━━━━\u001b[0m \u001b[32m0.0/422.8 kB\u001b[0m \u001b[31m?\u001b[0m eta \u001b[36m-:--:--\u001b[0m\r\u001b[2K   \u001b[91m━━━━━━━━━━━━━━━━━━━━━━━━━━━━━\u001b[0m\u001b[90m╺\u001b[0m\u001b[90m━━━━━━━━━━\u001b[0m \u001b[32m307.2/422.8 kB\u001b[0m \u001b[31m9.4 MB/s\u001b[0m eta \u001b[36m0:00:01\u001b[0m\r\u001b[2K   \u001b[90m━━━━━━━━━━━━━━━━━━━━━━━━━━━━━━━━━━━━━━━━\u001b[0m \u001b[32m422.8/422.8 kB\u001b[0m \u001b[31m8.6 MB/s\u001b[0m eta \u001b[36m0:00:00\u001b[0m\n",
            "\u001b[?25hInstalling collected packages: Ninja\n",
            "Successfully installed Ninja-1.11.1.4\n"
          ]
        }
      ]
    },
    {
      "cell_type": "code",
      "source": [
        "!pip install gradio"
      ],
      "metadata": {
        "colab": {
          "base_uri": "https://localhost:8080/"
        },
        "id": "J-NFOBAxXWo_",
        "outputId": "73b69e29-f659-48e5-81dd-c57671d2f135"
      },
      "execution_count": null,
      "outputs": [
        {
          "output_type": "stream",
          "name": "stdout",
          "text": [
            "Collecting gradio\n",
            "  Downloading gradio-5.32.0-py3-none-any.whl.metadata (16 kB)\n",
            "Collecting aiofiles<25.0,>=22.0 (from gradio)\n",
            "  Downloading aiofiles-24.1.0-py3-none-any.whl.metadata (10 kB)\n",
            "Requirement already satisfied: anyio<5.0,>=3.0 in /usr/local/lib/python3.11/dist-packages (from gradio) (4.9.0)\n",
            "Collecting fastapi<1.0,>=0.115.2 (from gradio)\n",
            "  Downloading fastapi-0.115.12-py3-none-any.whl.metadata (27 kB)\n",
            "Collecting ffmpy (from gradio)\n",
            "  Downloading ffmpy-0.5.0-py3-none-any.whl.metadata (3.0 kB)\n",
            "Collecting gradio-client==1.10.2 (from gradio)\n",
            "  Downloading gradio_client-1.10.2-py3-none-any.whl.metadata (7.1 kB)\n",
            "Collecting groovy~=0.1 (from gradio)\n",
            "  Downloading groovy-0.1.2-py3-none-any.whl.metadata (6.1 kB)\n",
            "Requirement already satisfied: httpx>=0.24.1 in /usr/local/lib/python3.11/dist-packages (from gradio) (0.28.1)\n",
            "Requirement already satisfied: huggingface-hub>=0.28.1 in /usr/local/lib/python3.11/dist-packages (from gradio) (0.31.4)\n",
            "Requirement already satisfied: jinja2<4.0 in /usr/local/lib/python3.11/dist-packages (from gradio) (3.1.6)\n",
            "Requirement already satisfied: markupsafe<4.0,>=2.0 in /usr/local/lib/python3.11/dist-packages (from gradio) (3.0.2)\n",
            "Requirement already satisfied: numpy<3.0,>=1.0 in /usr/local/lib/python3.11/dist-packages (from gradio) (2.0.2)\n",
            "Requirement already satisfied: orjson~=3.0 in /usr/local/lib/python3.11/dist-packages (from gradio) (3.10.18)\n",
            "Requirement already satisfied: packaging in /usr/local/lib/python3.11/dist-packages (from gradio) (24.2)\n",
            "Requirement already satisfied: pandas<3.0,>=1.0 in /usr/local/lib/python3.11/dist-packages (from gradio) (2.2.2)\n",
            "Requirement already satisfied: pillow<12.0,>=8.0 in /usr/local/lib/python3.11/dist-packages (from gradio) (11.2.1)\n",
            "Requirement already satisfied: pydantic<2.12,>=2.0 in /usr/local/lib/python3.11/dist-packages (from gradio) (2.11.4)\n",
            "Collecting pydub (from gradio)\n",
            "  Downloading pydub-0.25.1-py2.py3-none-any.whl.metadata (1.4 kB)\n",
            "Collecting python-multipart>=0.0.18 (from gradio)\n",
            "  Downloading python_multipart-0.0.20-py3-none-any.whl.metadata (1.8 kB)\n",
            "Requirement already satisfied: pyyaml<7.0,>=5.0 in /usr/local/lib/python3.11/dist-packages (from gradio) (6.0.2)\n",
            "Collecting ruff>=0.9.3 (from gradio)\n",
            "  Downloading ruff-0.11.12-py3-none-manylinux_2_17_x86_64.manylinux2014_x86_64.whl.metadata (25 kB)\n",
            "Collecting safehttpx<0.2.0,>=0.1.6 (from gradio)\n",
            "  Downloading safehttpx-0.1.6-py3-none-any.whl.metadata (4.2 kB)\n",
            "Collecting semantic-version~=2.0 (from gradio)\n",
            "  Downloading semantic_version-2.10.0-py2.py3-none-any.whl.metadata (9.7 kB)\n",
            "Collecting starlette<1.0,>=0.40.0 (from gradio)\n",
            "  Downloading starlette-0.47.0-py3-none-any.whl.metadata (6.2 kB)\n",
            "Collecting tomlkit<0.14.0,>=0.12.0 (from gradio)\n",
            "  Downloading tomlkit-0.13.2-py3-none-any.whl.metadata (2.7 kB)\n",
            "Requirement already satisfied: typer<1.0,>=0.12 in /usr/local/lib/python3.11/dist-packages (from gradio) (0.15.3)\n",
            "Requirement already satisfied: typing-extensions~=4.0 in /usr/local/lib/python3.11/dist-packages (from gradio) (4.13.2)\n",
            "Collecting uvicorn>=0.14.0 (from gradio)\n",
            "  Downloading uvicorn-0.34.3-py3-none-any.whl.metadata (6.5 kB)\n",
            "Requirement already satisfied: fsspec in /usr/local/lib/python3.11/dist-packages (from gradio-client==1.10.2->gradio) (2025.3.2)\n",
            "Requirement already satisfied: websockets<16.0,>=10.0 in /usr/local/lib/python3.11/dist-packages (from gradio-client==1.10.2->gradio) (15.0.1)\n",
            "Requirement already satisfied: idna>=2.8 in /usr/local/lib/python3.11/dist-packages (from anyio<5.0,>=3.0->gradio) (3.10)\n",
            "Requirement already satisfied: sniffio>=1.1 in /usr/local/lib/python3.11/dist-packages (from anyio<5.0,>=3.0->gradio) (1.3.1)\n",
            "Collecting starlette<1.0,>=0.40.0 (from gradio)\n",
            "  Downloading starlette-0.46.2-py3-none-any.whl.metadata (6.2 kB)\n",
            "Requirement already satisfied: certifi in /usr/local/lib/python3.11/dist-packages (from httpx>=0.24.1->gradio) (2025.4.26)\n",
            "Requirement already satisfied: httpcore==1.* in /usr/local/lib/python3.11/dist-packages (from httpx>=0.24.1->gradio) (1.0.9)\n",
            "Requirement already satisfied: h11>=0.16 in /usr/local/lib/python3.11/dist-packages (from httpcore==1.*->httpx>=0.24.1->gradio) (0.16.0)\n",
            "Requirement already satisfied: filelock in /usr/local/lib/python3.11/dist-packages (from huggingface-hub>=0.28.1->gradio) (3.18.0)\n",
            "Requirement already satisfied: requests in /usr/local/lib/python3.11/dist-packages (from huggingface-hub>=0.28.1->gradio) (2.32.3)\n",
            "Requirement already satisfied: tqdm>=4.42.1 in /usr/local/lib/python3.11/dist-packages (from huggingface-hub>=0.28.1->gradio) (4.67.1)\n",
            "Requirement already satisfied: python-dateutil>=2.8.2 in /usr/local/lib/python3.11/dist-packages (from pandas<3.0,>=1.0->gradio) (2.9.0.post0)\n",
            "Requirement already satisfied: pytz>=2020.1 in /usr/local/lib/python3.11/dist-packages (from pandas<3.0,>=1.0->gradio) (2025.2)\n",
            "Requirement already satisfied: tzdata>=2022.7 in /usr/local/lib/python3.11/dist-packages (from pandas<3.0,>=1.0->gradio) (2025.2)\n",
            "Requirement already satisfied: annotated-types>=0.6.0 in /usr/local/lib/python3.11/dist-packages (from pydantic<2.12,>=2.0->gradio) (0.7.0)\n",
            "Requirement already satisfied: pydantic-core==2.33.2 in /usr/local/lib/python3.11/dist-packages (from pydantic<2.12,>=2.0->gradio) (2.33.2)\n",
            "Requirement already satisfied: typing-inspection>=0.4.0 in /usr/local/lib/python3.11/dist-packages (from pydantic<2.12,>=2.0->gradio) (0.4.1)\n",
            "Requirement already satisfied: click>=8.0.0 in /usr/local/lib/python3.11/dist-packages (from typer<1.0,>=0.12->gradio) (8.2.1)\n",
            "Requirement already satisfied: shellingham>=1.3.0 in /usr/local/lib/python3.11/dist-packages (from typer<1.0,>=0.12->gradio) (1.5.4)\n",
            "Requirement already satisfied: rich>=10.11.0 in /usr/local/lib/python3.11/dist-packages (from typer<1.0,>=0.12->gradio) (13.9.4)\n",
            "Requirement already satisfied: six>=1.5 in /usr/local/lib/python3.11/dist-packages (from python-dateutil>=2.8.2->pandas<3.0,>=1.0->gradio) (1.17.0)\n",
            "Requirement already satisfied: markdown-it-py>=2.2.0 in /usr/local/lib/python3.11/dist-packages (from rich>=10.11.0->typer<1.0,>=0.12->gradio) (3.0.0)\n",
            "Requirement already satisfied: pygments<3.0.0,>=2.13.0 in /usr/local/lib/python3.11/dist-packages (from rich>=10.11.0->typer<1.0,>=0.12->gradio) (2.19.1)\n",
            "Requirement already satisfied: charset-normalizer<4,>=2 in /usr/local/lib/python3.11/dist-packages (from requests->huggingface-hub>=0.28.1->gradio) (3.4.2)\n",
            "Requirement already satisfied: urllib3<3,>=1.21.1 in /usr/local/lib/python3.11/dist-packages (from requests->huggingface-hub>=0.28.1->gradio) (2.4.0)\n",
            "Requirement already satisfied: mdurl~=0.1 in /usr/local/lib/python3.11/dist-packages (from markdown-it-py>=2.2.0->rich>=10.11.0->typer<1.0,>=0.12->gradio) (0.1.2)\n",
            "Downloading gradio-5.32.0-py3-none-any.whl (54.2 MB)\n",
            "\u001b[2K   \u001b[90m━━━━━━━━━━━━━━━━━━━━━━━━━━━━━━━━━━━━━━━━\u001b[0m \u001b[32m54.2/54.2 MB\u001b[0m \u001b[31m19.8 MB/s\u001b[0m eta \u001b[36m0:00:00\u001b[0m\n",
            "\u001b[?25hDownloading gradio_client-1.10.2-py3-none-any.whl (323 kB)\n",
            "\u001b[2K   \u001b[90m━━━━━━━━━━━━━━━━━━━━━━━━━━━━━━━━━━━━━━━━\u001b[0m \u001b[32m323.3/323.3 kB\u001b[0m \u001b[31m26.6 MB/s\u001b[0m eta \u001b[36m0:00:00\u001b[0m\n",
            "\u001b[?25hDownloading aiofiles-24.1.0-py3-none-any.whl (15 kB)\n",
            "Downloading fastapi-0.115.12-py3-none-any.whl (95 kB)\n",
            "\u001b[2K   \u001b[90m━━━━━━━━━━━━━━━━━━━━━━━━━━━━━━━━━━━━━━━━\u001b[0m \u001b[32m95.2/95.2 kB\u001b[0m \u001b[31m9.4 MB/s\u001b[0m eta \u001b[36m0:00:00\u001b[0m\n",
            "\u001b[?25hDownloading groovy-0.1.2-py3-none-any.whl (14 kB)\n",
            "Downloading python_multipart-0.0.20-py3-none-any.whl (24 kB)\n",
            "Downloading ruff-0.11.12-py3-none-manylinux_2_17_x86_64.manylinux2014_x86_64.whl (11.5 MB)\n",
            "\u001b[2K   \u001b[90m━━━━━━━━━━━━━━━━━━━━━━━━━━━━━━━━━━━━━━━━\u001b[0m \u001b[32m11.5/11.5 MB\u001b[0m \u001b[31m85.2 MB/s\u001b[0m eta \u001b[36m0:00:00\u001b[0m\n",
            "\u001b[?25hDownloading safehttpx-0.1.6-py3-none-any.whl (8.7 kB)\n",
            "Downloading semantic_version-2.10.0-py2.py3-none-any.whl (15 kB)\n",
            "Downloading starlette-0.46.2-py3-none-any.whl (72 kB)\n",
            "\u001b[2K   \u001b[90m━━━━━━━━━━━━━━━━━━━━━━━━━━━━━━━━━━━━━━━━\u001b[0m \u001b[32m72.0/72.0 kB\u001b[0m \u001b[31m7.3 MB/s\u001b[0m eta \u001b[36m0:00:00\u001b[0m\n",
            "\u001b[?25hDownloading tomlkit-0.13.2-py3-none-any.whl (37 kB)\n",
            "Downloading uvicorn-0.34.3-py3-none-any.whl (62 kB)\n",
            "\u001b[2K   \u001b[90m━━━━━━━━━━━━━━━━━━━━━━━━━━━━━━━━━━━━━━━━\u001b[0m \u001b[32m62.4/62.4 kB\u001b[0m \u001b[31m6.1 MB/s\u001b[0m eta \u001b[36m0:00:00\u001b[0m\n",
            "\u001b[?25hDownloading ffmpy-0.5.0-py3-none-any.whl (6.0 kB)\n",
            "Downloading pydub-0.25.1-py2.py3-none-any.whl (32 kB)\n",
            "Installing collected packages: pydub, uvicorn, tomlkit, semantic-version, ruff, python-multipart, groovy, ffmpy, aiofiles, starlette, safehttpx, gradio-client, fastapi, gradio\n",
            "Successfully installed aiofiles-24.1.0 fastapi-0.115.12 ffmpy-0.5.0 gradio-5.32.0 gradio-client-1.10.2 groovy-0.1.2 pydub-0.25.1 python-multipart-0.0.20 ruff-0.11.12 safehttpx-0.1.6 semantic-version-2.10.0 starlette-0.46.2 tomlkit-0.13.2 uvicorn-0.34.3\n"
          ]
        }
      ]
    },
    {
      "cell_type": "code",
      "source": [
        "import gradio as gr\n",
        "import subprocess\n",
        "import os\n",
        "import zipfile\n",
        "from datetime import datetime\n",
        "import shutil\n",
        "\n",
        "def generate_and_zip_images(truncation, seed_start, seed_end):\n",
        "    generated_images_dir = \"/tmp/generated_images\"\n",
        "    os.makedirs(generated_images_dir, exist_ok=True)\n",
        "\n",
        "    # network_pkl = \"/content/network-snapshot-000120.pkl\"\n",
        "    network_pkl = \"/content/drive/MyDrive/pathvqa/network-snapshot-000120.pkl\"\n",
        "\n",
        "    cmd = [\n",
        "        \"python\", \"/content/stylegan3/gen_images.py\",\n",
        "        f\"--outdir={generated_images_dir}\",\n",
        "        f\"--trunc={truncation}\",\n",
        "        f\"--seeds={seed_start}-{seed_end}\",\n",
        "        f\"--network={network_pkl}\"\n",
        "    ]\n",
        "    subprocess.run(cmd, check=True)\n",
        "\n",
        "    zip_path = f\"/tmp/generated_images_{datetime.now().strftime('%Y%m%d%H%M%S')}.zip\"\n",
        "    with zipfile.ZipFile(zip_path, \"w\", zipfile.ZIP_DEFLATED) as zipf:\n",
        "        for root, _, files in os.walk(generated_images_dir):\n",
        "            for file in files:\n",
        "                full_path = os.path.join(root, file)\n",
        "                arcname = os.path.relpath(full_path, generated_images_dir)\n",
        "                zipf.write(full_path, arcname)\n",
        "\n",
        "    return zip_path\n",
        "\n",
        "iface = gr.Interface(\n",
        "    fn=generate_and_zip_images,\n",
        "    inputs=[\n",
        "        gr.Number(label=\"Truncation\", value=0.7),\n",
        "        gr.Number(label=\"Seed Start\", value=0),\n",
        "        gr.Number(label=\"Seed End\", value=24),\n",
        "    ],\n",
        "    outputs=gr.File(label=\"Zipped Images\")\n",
        ")\n",
        "\n",
        "iface.launch(share=True)\n"
      ],
      "metadata": {
        "colab": {
          "base_uri": "https://localhost:8080/",
          "height": 611
        },
        "id": "qLcpb_zWYqgQ",
        "outputId": "58e6a0a0-1cad-4cd8-dea4-71f567a67ad5"
      },
      "execution_count": null,
      "outputs": [
        {
          "output_type": "stream",
          "name": "stdout",
          "text": [
            "Colab notebook detected. To show errors in colab notebook, set debug=True in launch()\n",
            "* Running on public URL: https://6214c888230059ccbf.gradio.live\n",
            "\n",
            "This share link expires in 1 week. For free permanent hosting and GPU upgrades, run `gradio deploy` from the terminal in the working directory to deploy to Hugging Face Spaces (https://huggingface.co/spaces)\n"
          ]
        },
        {
          "output_type": "display_data",
          "data": {
            "text/plain": [
              "<IPython.core.display.HTML object>"
            ],
            "text/html": [
              "<div><iframe src=\"https://6214c888230059ccbf.gradio.live\" width=\"100%\" height=\"500\" allow=\"autoplay; camera; microphone; clipboard-read; clipboard-write;\" frameborder=\"0\" allowfullscreen></iframe></div>"
            ]
          },
          "metadata": {}
        },
        {
          "output_type": "execute_result",
          "data": {
            "text/plain": []
          },
          "metadata": {},
          "execution_count": 7
        }
      ]
    },
    {
      "cell_type": "code",
      "execution_count": null,
      "metadata": {
        "id": "LyNEC_4fSG2W"
      },
      "outputs": [],
      "source": []
    }
  ],
  "metadata": {
    "kernelspec": {
      "display_name": "Python 3",
      "name": "python3"
    },
    "language_info": {
      "codemirror_mode": {
        "name": "ipython",
        "version": 3
      },
      "file_extension": ".py",
      "mimetype": "text/x-python",
      "name": "python",
      "nbconvert_exporter": "python",
      "pygments_lexer": "ipython3",
      "version": "3.12.8"
    },
    "colab": {
      "provenance": [],
      "gpuType": "T4"
    },
    "accelerator": "GPU"
  },
  "nbformat": 4,
  "nbformat_minor": 0
}