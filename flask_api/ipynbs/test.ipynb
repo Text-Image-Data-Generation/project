{
 "cells": [
  {
   "cell_type": "code",
   "execution_count": 2,
   "metadata": {},
   "outputs": [
    {
     "name": "stdout",
     "output_type": "stream",
     "text": [
      "Cloning into 'ESRGAN'...\n",
      "remote: Enumerating objects: 225, done.\u001b[K\n",
      "remote: Counting objects: 100% (20/20), done.\u001b[K\n",
      "remote: Compressing objects: 100% (6/6), done.\u001b[K\n",
      "remote: Total 225 (delta 15), reused 14 (delta 14), pack-reused 205 (from 1)\u001b[K\n",
      "Receiving objects: 100% (225/225), 24.86 MiB | 4.53 MiB/s, done.\n",
      "Resolving deltas: 100% (85/85), done.\n"
     ]
    }
   ],
   "source": [
    "!git clone https://github.com/xinntao/ESRGAN\n"
   ]
  },
  {
   "cell_type": "code",
   "execution_count": 10,
   "metadata": {},
   "outputs": [
    {
     "name": "stdout",
     "output_type": "stream",
     "text": [
      "Collecting opencv-python\n",
      "  Using cached opencv_python-4.11.0.86-cp37-abi3-macosx_13_0_arm64.whl.metadata (20 kB)\n",
      "Requirement already satisfied: numpy>=1.21.2 in /Users/harinathreddy/Documents/major_project/myenv/lib/python3.12/site-packages (from opencv-python) (2.2.1)\n",
      "Using cached opencv_python-4.11.0.86-cp37-abi3-macosx_13_0_arm64.whl (37.3 MB)\n",
      "Installing collected packages: opencv-python\n",
      "Successfully installed opencv-python-4.11.0.86\n",
      "\n",
      "\u001b[1m[\u001b[0m\u001b[34;49mnotice\u001b[0m\u001b[1;39;49m]\u001b[0m\u001b[39;49m A new release of pip is available: \u001b[0m\u001b[31;49m24.3.1\u001b[0m\u001b[39;49m -> \u001b[0m\u001b[32;49m25.1.1\u001b[0m\n",
      "\u001b[1m[\u001b[0m\u001b[34;49mnotice\u001b[0m\u001b[1;39;49m]\u001b[0m\u001b[39;49m To update, run: \u001b[0m\u001b[32;49mpip install --upgrade pip\u001b[0m\n"
     ]
    }
   ],
   "source": [
    "!pip install opencv-python"
   ]
  },
  {
   "cell_type": "code",
   "execution_count": 9,
   "metadata": {},
   "outputs": [
    {
     "name": "stderr",
     "output_type": "stream",
     "text": [
      "/var/folders/0c/lxn_z4x57q1dc5xb66ypsdm00000gn/T/ipykernel_74661/383772227.py:13: FutureWarning: You are using `torch.load` with `weights_only=False` (the current default value), which uses the default pickle module implicitly. It is possible to construct malicious pickle data which will execute arbitrary code during unpickling (See https://github.com/pytorch/pytorch/blob/main/SECURITY.md#untrusted-models for more details). In a future release, the default value for `weights_only` will be flipped to `True`. This limits the functions that could be executed during unpickling. Arbitrary objects will no longer be allowed to be loaded via this mode unless they are explicitly allowlisted by the user via `torch.serialization.add_safe_globals`. We recommend you start setting `weights_only=True` for any use case where you don't have full control of the loaded file. Please open an issue on GitHub for any issues related to this experimental feature.\n",
      "  model.load_state_dict(torch.load(model_path, map_location=device), strict=True)\n"
     ]
    },
    {
     "name": "stdout",
     "output_type": "stream",
     "text": [
      "Loaded model from /Users/harinathreddy/Documents/major_project/ISR/ESRGAN/models/RRDB_ESRGAN_x4.pth\n",
      "Enhancing image: /Users/harinathreddy/Documents/major_project/ISR/ESRGAN/LR/baboon.png\n",
      "Saved enhanced image to: /Users/harinathreddy/Documents/major_project/ISR/results/baboon_rlt.png\n"
     ]
    }
   ],
   "source": [
    "import os.path as osp\n",
    "import cv2\n",
    "import numpy as np\n",
    "import torch\n",
    "import sys\n",
    "sys.path.append(\"/Users/harinathreddy/Documents/major_project/ISR/ESRGAN\")\n",
    "import os\n",
    "import RRDBNet_arch as arch\n",
    "\n",
    "def enhance_image(input_path, output_dir, model_path, device='cpu'):\n",
    "    device = torch.device(device)\n",
    "    model = arch.RRDBNet(3, 3, 64, 23, gc=32)\n",
    "    model.load_state_dict(torch.load(model_path, map_location=device), strict=True)\n",
    "    model.eval()\n",
    "    model = model.to(device)\n",
    "    os.makedirs(output_dir,exist_ok=True)\n",
    "    print(f'Loaded model from {model_path}')\n",
    "    print(f'Enhancing image: {input_path}')\n",
    "\n",
    "    # Read and preprocess image\n",
    "    img = cv2.imread(input_path, cv2.IMREAD_COLOR)\n",
    "    if img is None:\n",
    "        raise FileNotFoundError(f\"Image not found at {input_path}\")\n",
    "    img = img.astype(np.float32) / 255.0\n",
    "    img = torch.from_numpy(np.transpose(img[:, :, [2, 1, 0]], (2, 0, 1))).float().unsqueeze(0).to(device)\n",
    "\n",
    "    # Inference\n",
    "    with torch.no_grad():\n",
    "        output = model(img).data.squeeze().float().cpu().clamp_(0, 1).numpy()\n",
    "    output = np.transpose(output[[2, 1, 0], :, :], (1, 2, 0))\n",
    "    output = (output * 255.0).round().astype(np.uint8)\n",
    "\n",
    "    # Construct output filename with same extension\n",
    "\n",
    "    base_name = osp.splitext(osp.basename(input_path))[0]\n",
    "    ext = osp.splitext(input_path)[1]\n",
    "    output_path = osp.join(output_dir, f\"{base_name}_rlt{ext}\")\n",
    "\n",
    "    # Save result\n",
    "    cv2.imwrite(output_path, output)\n",
    "    print(f'Saved enhanced image to: {output_path}')\n",
    "\n",
    "# Example usage\n",
    "input_img = '/Users/harinathreddy/Documents/major_project/ISR/ESRGAN/LR/baboon.png'\n",
    "output_dir = '/Users/harinathreddy/Documents/major_project/ISR/results'\n",
    "model_path = '/Users/harinathreddy/Documents/major_project/ISR/ESRGAN/models/RRDB_ESRGAN_x4.pth'\n",
    "\n",
    "enhance_image(input_img, output_dir, model_path, device='cpu')\n"
   ]
  },
  {
   "cell_type": "code",
   "execution_count": null,
   "metadata": {},
   "outputs": [],
   "source": []
  }
 ],
 "metadata": {
  "kernelspec": {
   "display_name": "myenv",
   "language": "python",
   "name": "python3"
  },
  "language_info": {
   "codemirror_mode": {
    "name": "ipython",
    "version": 3
   },
   "file_extension": ".py",
   "mimetype": "text/x-python",
   "name": "python",
   "nbconvert_exporter": "python",
   "pygments_lexer": "ipython3",
   "version": "3.12.8"
  }
 },
 "nbformat": 4,
 "nbformat_minor": 2
}
